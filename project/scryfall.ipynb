{
  "nbformat": 4,
  "nbformat_minor": 0,
  "metadata": {
    "colab": {
      "provenance": [],
      "authorship_tag": "ABX9TyO1kfo0W94XgP9gX7rUBPLM",
      "include_colab_link": true
    },
    "kernelspec": {
      "name": "python3",
      "display_name": "Python 3"
    },
    "language_info": {
      "name": "python"
    }
  },
  "cells": [
    {
      "cell_type": "markdown",
      "metadata": {
        "id": "view-in-github",
        "colab_type": "text"
      },
      "source": [
        "<a href=\"https://colab.research.google.com/github/wetherc/data-3000/blob/main/project/scryfall.ipynb\" target=\"_parent\"><img src=\"https://colab.research.google.com/assets/colab-badge.svg\" alt=\"Open In Colab\"/></a>"
      ]
    },
    {
      "cell_type": "code",
      "source": [
        "import pandas as pd\n",
        "import json\n",
        "import os\n",
        "\n",
        "from pathlib import Path\n",
        "from google.colab import drive\n",
        "drive.mount('/content/drive')"
      ],
      "metadata": {
        "colab": {
          "base_uri": "https://localhost:8080/"
        },
        "id": "ZvQ2gEmwwwUw",
        "outputId": "aecff41b-224c-49ae-ae5f-f1b87926b6a2"
      },
      "execution_count": 1,
      "outputs": [
        {
          "output_type": "stream",
          "name": "stdout",
          "text": [
            "Drive already mounted at /content/drive; to attempt to forcibly remount, call drive.mount(\"/content/drive\", force_remount=True).\n"
          ]
        }
      ]
    },
    {
      "cell_type": "code",
      "source": [
        "_en_card_path = '/content/drive/MyDrive/scryfall-en-cards.json'"
      ],
      "metadata": {
        "id": "E1sFezxewyO0"
      },
      "execution_count": 2,
      "outputs": []
    },
    {
      "cell_type": "markdown",
      "source": [
        "# Process raw dataset"
      ],
      "metadata": {
        "id": "tAjiIgDE1XyJ"
      }
    },
    {
      "cell_type": "code",
      "source": [
        "def yield_card_data():\n",
        "    with open('/content/drive/MyDrive/scryfall-all-cards.json', 'r') as infile:\n",
        "        for row in infile:\n",
        "            yield row"
      ],
      "metadata": {
        "id": "PDzD8CGFw6Js"
      },
      "execution_count": 3,
      "outputs": []
    },
    {
      "cell_type": "code",
      "source": [
        "en_cards = Path(_en_card_path)\n",
        "if not en_cards.is_file():\n",
        "    card_content_generator = yield_card_data()\n",
        "    en_cards = []\n",
        "\n",
        "    for row in card_content_generator:\n",
        "        try:\n",
        "            card = json.loads(row[:-2])\n",
        "        except json.JSONDecodeError:\n",
        "            continue\n",
        "        if card['lang'] == 'en':\n",
        "            en_cards.append(card)\n",
        "\n",
        "    with open('/content/drive/MyDrive/scryfall-en-cards.json', 'w') as outfile:\n",
        "        json.dump(en_cards, outfile)\n",
        "\n",
        "    del card_content_generator\n",
        "    del en_cards"
      ],
      "metadata": {
        "id": "ZFuRxaP3ym8S"
      },
      "execution_count": 4,
      "outputs": []
    },
    {
      "cell_type": "markdown",
      "source": [
        "# Process English Dataset"
      ],
      "metadata": {
        "id": "czfSHe531bk5"
      }
    },
    {
      "cell_type": "code",
      "source": [
        "with open(_en_card_path, 'r') as infile:\n",
        "    en_cards = json.load(infile)"
      ],
      "metadata": {
        "id": "CU6L3Ske1S1n"
      },
      "execution_count": 5,
      "outputs": []
    },
    {
      "cell_type": "code",
      "source": [
        "len(en_cards)"
      ],
      "metadata": {
        "colab": {
          "base_uri": "https://localhost:8080/"
        },
        "id": "xw6zERZJzQS5",
        "outputId": "bb04d983-8c8b-4d3f-8691-716ff19baa3d"
      },
      "execution_count": 6,
      "outputs": [
        {
          "output_type": "execute_result",
          "data": {
            "text/plain": [
              "91057"
            ]
          },
          "metadata": {},
          "execution_count": 6
        }
      ]
    },
    {
      "cell_type": "code",
      "source": [
        "print(json.dumps(en_cards[0], indent=2))"
      ],
      "metadata": {
        "colab": {
          "base_uri": "https://localhost:8080/"
        },
        "id": "RL5_Zpg82ZXA",
        "outputId": "35557877-9111-4593-8353-0661b6a7eaea"
      },
      "execution_count": 7,
      "outputs": [
        {
          "output_type": "stream",
          "name": "stdout",
          "text": [
            "{\n",
            "  \"object\": \"card\",\n",
            "  \"id\": \"0000579f-7b35-4ed3-b44c-db2a538066fe\",\n",
            "  \"oracle_id\": \"44623693-51d6-49ad-8cd7-140505caf02f\",\n",
            "  \"multiverse_ids\": [\n",
            "    109722\n",
            "  ],\n",
            "  \"mtgo_id\": 25527,\n",
            "  \"mtgo_foil_id\": 25528,\n",
            "  \"tcgplayer_id\": 14240,\n",
            "  \"cardmarket_id\": 13850,\n",
            "  \"name\": \"Fury Sliver\",\n",
            "  \"lang\": \"en\",\n",
            "  \"released_at\": \"2006-10-06\",\n",
            "  \"uri\": \"https://api.scryfall.com/cards/0000579f-7b35-4ed3-b44c-db2a538066fe\",\n",
            "  \"scryfall_uri\": \"https://scryfall.com/card/tsp/157/fury-sliver?utm_source=api\",\n",
            "  \"layout\": \"normal\",\n",
            "  \"highres_image\": true,\n",
            "  \"image_status\": \"highres_scan\",\n",
            "  \"image_uris\": {\n",
            "    \"small\": \"https://cards.scryfall.io/small/front/0/0/0000579f-7b35-4ed3-b44c-db2a538066fe.jpg?1562894979\",\n",
            "    \"normal\": \"https://cards.scryfall.io/normal/front/0/0/0000579f-7b35-4ed3-b44c-db2a538066fe.jpg?1562894979\",\n",
            "    \"large\": \"https://cards.scryfall.io/large/front/0/0/0000579f-7b35-4ed3-b44c-db2a538066fe.jpg?1562894979\",\n",
            "    \"png\": \"https://cards.scryfall.io/png/front/0/0/0000579f-7b35-4ed3-b44c-db2a538066fe.png?1562894979\",\n",
            "    \"art_crop\": \"https://cards.scryfall.io/art_crop/front/0/0/0000579f-7b35-4ed3-b44c-db2a538066fe.jpg?1562894979\",\n",
            "    \"border_crop\": \"https://cards.scryfall.io/border_crop/front/0/0/0000579f-7b35-4ed3-b44c-db2a538066fe.jpg?1562894979\"\n",
            "  },\n",
            "  \"mana_cost\": \"{5}{R}\",\n",
            "  \"cmc\": 6.0,\n",
            "  \"type_line\": \"Creature \\u2014 Sliver\",\n",
            "  \"oracle_text\": \"All Sliver creatures have double strike.\",\n",
            "  \"power\": \"3\",\n",
            "  \"toughness\": \"3\",\n",
            "  \"colors\": [\n",
            "    \"R\"\n",
            "  ],\n",
            "  \"color_identity\": [\n",
            "    \"R\"\n",
            "  ],\n",
            "  \"keywords\": [],\n",
            "  \"legalities\": {\n",
            "    \"standard\": \"not_legal\",\n",
            "    \"future\": \"not_legal\",\n",
            "    \"historic\": \"not_legal\",\n",
            "    \"timeless\": \"not_legal\",\n",
            "    \"gladiator\": \"not_legal\",\n",
            "    \"pioneer\": \"not_legal\",\n",
            "    \"explorer\": \"not_legal\",\n",
            "    \"modern\": \"legal\",\n",
            "    \"legacy\": \"legal\",\n",
            "    \"pauper\": \"not_legal\",\n",
            "    \"vintage\": \"legal\",\n",
            "    \"penny\": \"not_legal\",\n",
            "    \"commander\": \"legal\",\n",
            "    \"oathbreaker\": \"legal\",\n",
            "    \"standardbrawl\": \"not_legal\",\n",
            "    \"brawl\": \"not_legal\",\n",
            "    \"alchemy\": \"not_legal\",\n",
            "    \"paupercommander\": \"restricted\",\n",
            "    \"duel\": \"legal\",\n",
            "    \"oldschool\": \"not_legal\",\n",
            "    \"premodern\": \"not_legal\",\n",
            "    \"predh\": \"legal\"\n",
            "  },\n",
            "  \"games\": [\n",
            "    \"paper\",\n",
            "    \"mtgo\"\n",
            "  ],\n",
            "  \"reserved\": false,\n",
            "  \"foil\": true,\n",
            "  \"nonfoil\": true,\n",
            "  \"finishes\": [\n",
            "    \"nonfoil\",\n",
            "    \"foil\"\n",
            "  ],\n",
            "  \"oversized\": false,\n",
            "  \"promo\": false,\n",
            "  \"reprint\": false,\n",
            "  \"variation\": false,\n",
            "  \"set_id\": \"c1d109bc-ffd8-428f-8d7d-3f8d7e648046\",\n",
            "  \"set\": \"tsp\",\n",
            "  \"set_name\": \"Time Spiral\",\n",
            "  \"set_type\": \"expansion\",\n",
            "  \"set_uri\": \"https://api.scryfall.com/sets/c1d109bc-ffd8-428f-8d7d-3f8d7e648046\",\n",
            "  \"set_search_uri\": \"https://api.scryfall.com/cards/search?order=set&q=e%3Atsp&unique=prints\",\n",
            "  \"scryfall_set_uri\": \"https://scryfall.com/sets/tsp?utm_source=api\",\n",
            "  \"rulings_uri\": \"https://api.scryfall.com/cards/0000579f-7b35-4ed3-b44c-db2a538066fe/rulings\",\n",
            "  \"prints_search_uri\": \"https://api.scryfall.com/cards/search?order=released&q=oracleid%3A44623693-51d6-49ad-8cd7-140505caf02f&unique=prints\",\n",
            "  \"collector_number\": \"157\",\n",
            "  \"digital\": false,\n",
            "  \"rarity\": \"uncommon\",\n",
            "  \"flavor_text\": \"\\\"A rift opened, and our arrows were abruptly stilled. To move was to push the world. But the sliver's claw still twitched, red wounds appeared in Thed's chest, and ribbons of blood hung in the air.\\\"\\n\\u2014Adom Capashen, Benalish hero\",\n",
            "  \"card_back_id\": \"0aeebaf5-8c7d-4636-9e82-8c27447861f7\",\n",
            "  \"artist\": \"Paolo Parente\",\n",
            "  \"artist_ids\": [\n",
            "    \"d48dd097-720d-476a-8722-6a02854ae28b\"\n",
            "  ],\n",
            "  \"illustration_id\": \"2fcca987-364c-4738-a75b-099d8a26d614\",\n",
            "  \"border_color\": \"black\",\n",
            "  \"frame\": \"2003\",\n",
            "  \"full_art\": false,\n",
            "  \"textless\": false,\n",
            "  \"booster\": true,\n",
            "  \"story_spotlight\": false,\n",
            "  \"edhrec_rank\": 7092,\n",
            "  \"penny_rank\": 12044,\n",
            "  \"prices\": {\n",
            "    \"usd\": \"0.38\",\n",
            "    \"usd_foil\": \"1.49\",\n",
            "    \"usd_etched\": null,\n",
            "    \"eur\": \"0.25\",\n",
            "    \"eur_foil\": \"0.71\",\n",
            "    \"tix\": \"0.03\"\n",
            "  },\n",
            "  \"related_uris\": {\n",
            "    \"gatherer\": \"https://gatherer.wizards.com/Pages/Card/Details.aspx?multiverseid=109722&printed=false\",\n",
            "    \"tcgplayer_infinite_articles\": \"https://tcgplayer.pxf.io/c/4931599/1830156/21018?subId1=api&trafcat=infinite&u=https%3A%2F%2Finfinite.tcgplayer.com%2Fsearch%3FcontentMode%3Darticle%26game%3Dmagic%26partner%3Dscryfall%26q%3DFury%2BSliver\",\n",
            "    \"tcgplayer_infinite_decks\": \"https://tcgplayer.pxf.io/c/4931599/1830156/21018?subId1=api&trafcat=infinite&u=https%3A%2F%2Finfinite.tcgplayer.com%2Fsearch%3FcontentMode%3Ddeck%26game%3Dmagic%26partner%3Dscryfall%26q%3DFury%2BSliver\",\n",
            "    \"edhrec\": \"https://edhrec.com/route/?cc=Fury+Sliver\"\n",
            "  },\n",
            "  \"purchase_uris\": {\n",
            "    \"tcgplayer\": \"https://tcgplayer.pxf.io/c/4931599/1830156/21018?subId1=api&u=https%3A%2F%2Fwww.tcgplayer.com%2Fproduct%2F14240%3Fpage%3D1\",\n",
            "    \"cardmarket\": \"https://www.cardmarket.com/en/Magic/Products/Singles/Time-Spiral/Fury-Sliver?referrer=scryfall&utm_campaign=card_prices&utm_medium=text&utm_source=scryfall\",\n",
            "    \"cardhoarder\": \"https://www.cardhoarder.com/cards/25527?affiliate_id=scryfall&ref=card-profile&utm_campaign=affiliate&utm_medium=card&utm_source=scryfall\"\n",
            "  }\n",
            "}\n"
          ]
        }
      ]
    },
    {
      "cell_type": "code",
      "source": [],
      "metadata": {
        "id": "nSK_iWNu2fYY"
      },
      "execution_count": null,
      "outputs": []
    }
  ]
}