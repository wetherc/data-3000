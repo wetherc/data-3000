{
  "nbformat": 4,
  "nbformat_minor": 0,
  "metadata": {
    "colab": {
      "provenance": [],
      "authorship_tag": "ABX9TyNyQtauqehIIAa4SrIQzmh4",
      "include_colab_link": true
    },
    "kernelspec": {
      "name": "python3",
      "display_name": "Python 3"
    },
    "language_info": {
      "name": "python"
    }
  },
  "cells": [
    {
      "cell_type": "markdown",
      "metadata": {
        "id": "view-in-github",
        "colab_type": "text"
      },
      "source": [
        "<a href=\"https://colab.research.google.com/github/wetherc/data-3000/blob/main/labs/02_20_neural_network_review.ipynb\" target=\"_parent\"><img src=\"https://colab.research.google.com/assets/colab-badge.svg\" alt=\"Open In Colab\"/></a>"
      ]
    },
    {
      "cell_type": "code",
      "execution_count": 1,
      "metadata": {
        "colab": {
          "base_uri": "https://localhost:8080/"
        },
        "id": "4scadaKs2sEg",
        "outputId": "1489f443-22a1-418e-df72-edd0199da29d"
      },
      "outputs": [
        {
          "output_type": "stream",
          "name": "stdout",
          "text": [
            "Collecting ucimlrepo\n",
            "  Downloading ucimlrepo-0.0.3-py3-none-any.whl (7.0 kB)\n",
            "Installing collected packages: ucimlrepo\n",
            "Successfully installed ucimlrepo-0.0.3\n"
          ]
        }
      ],
      "source": [
        "!pip install ucimlrepo"
      ]
    },
    {
      "cell_type": "code",
      "source": [
        "import pandas as pd\n",
        "from ucimlrepo import fetch_ucirepo\n",
        "\n",
        "# fetch dataset\n",
        "cdc_diabetes_health_indicators = fetch_ucirepo(id=891)\n",
        "\n",
        "# data (as pandas dataframes)\n",
        "X = cdc_diabetes_health_indicators.data.features\n",
        "y = cdc_diabetes_health_indicators.data.targets\n",
        "\n",
        "# metadata\n",
        "print(cdc_diabetes_health_indicators.metadata)\n",
        "\n",
        "# variable information\n",
        "print(cdc_diabetes_health_indicators.variables)"
      ],
      "metadata": {
        "colab": {
          "base_uri": "https://localhost:8080/"
        },
        "id": "hhPZMQJu3cjB",
        "outputId": "fc2c452a-fcea-4680-89dc-621082920edc"
      },
      "execution_count": 5,
      "outputs": [
        {
          "output_type": "stream",
          "name": "stdout",
          "text": [
            "{'uci_id': 891, 'name': 'CDC Diabetes Health Indicators', 'repository_url': 'https://archive.ics.uci.edu/dataset/891/cdc+diabetes+health+indicators', 'data_url': 'https://archive.ics.uci.edu/static/public/891/data.csv', 'abstract': 'The Diabetes Health Indicators Dataset contains healthcare statistics and lifestyle survey information about people in general along with their diagnosis of diabetes. The 35 features consist of some demographics, lab test results, and answers to survey questions for each patient. The target variable for classification is whether a patient has diabetes, is pre-diabetic, or healthy. ', 'area': 'Health and Medicine', 'tasks': ['Classification'], 'characteristics': ['Tabular', 'Multivariate'], 'num_instances': 253680, 'num_features': 21, 'feature_types': ['Categorical', 'Integer'], 'demographics': ['Sex', 'Age', 'Education Level', 'Income'], 'target_col': ['Diabetes_binary'], 'index_col': ['ID'], 'has_missing_values': 'no', 'missing_values_symbol': None, 'year_of_dataset_creation': 2017, 'last_updated': 'Fri Nov 03 2023', 'dataset_doi': '10.24432/C53919', 'creators': [], 'intro_paper': {'title': 'Incidence of End-Stage Renal Disease Attributed to Diabetes Among Persons with Diagnosed Diabetes — United States and Puerto Rico, 2000–2014', 'authors': 'Nilka Rios Burrows, MPH; Israel Hora, PhD; Linda S. Geiss, MA; Edward W. Gregg, PhD; Ann Albright, PhD', 'published_in': 'Morbidity and Mortality Weekly Report', 'year': 2017, 'url': 'https://www.cdc.gov/mmwr/volumes/66/wr/mm6643a2.htm', 'doi': None}, 'additional_info': {'summary': 'Dataset link: https://www.cdc.gov/brfss/annual_data/annual_2014.html', 'purpose': 'To better understand the relationship between  lifestyle and diabetes in the US', 'funded_by': 'The CDC', 'instances_represent': 'Each row represents a person participating in this study.', 'recommended_data_splits': 'Cross validation or a fixed train-test split could be used.', 'sensitive_data': '- Gender\\n- Income\\n- Education level', 'preprocessing_description': 'Bucketing of age', 'variable_info': '- Diabetes diagnosis\\n- Demographics (race, sex)\\n- Personal information (income, educations)\\n- Health history (drinking, smoking, mental health, physical health)', 'citation': None}, 'external_url': 'https://www.kaggle.com/datasets/alexteboul/diabetes-health-indicators-dataset'}\n",
            "                    name     role     type      demographic  \\\n",
            "0                     ID       ID  Integer             None   \n",
            "1        Diabetes_binary   Target   Binary             None   \n",
            "2                 HighBP  Feature   Binary             None   \n",
            "3               HighChol  Feature   Binary             None   \n",
            "4              CholCheck  Feature   Binary             None   \n",
            "5                    BMI  Feature  Integer             None   \n",
            "6                 Smoker  Feature   Binary             None   \n",
            "7                 Stroke  Feature   Binary             None   \n",
            "8   HeartDiseaseorAttack  Feature   Binary             None   \n",
            "9           PhysActivity  Feature   Binary             None   \n",
            "10                Fruits  Feature   Binary             None   \n",
            "11               Veggies  Feature   Binary             None   \n",
            "12     HvyAlcoholConsump  Feature   Binary             None   \n",
            "13         AnyHealthcare  Feature   Binary             None   \n",
            "14           NoDocbcCost  Feature   Binary             None   \n",
            "15               GenHlth  Feature  Integer             None   \n",
            "16              MentHlth  Feature  Integer             None   \n",
            "17              PhysHlth  Feature  Integer             None   \n",
            "18              DiffWalk  Feature   Binary             None   \n",
            "19                   Sex  Feature   Binary              Sex   \n",
            "20                   Age  Feature  Integer              Age   \n",
            "21             Education  Feature  Integer  Education Level   \n",
            "22                Income  Feature  Integer           Income   \n",
            "\n",
            "                                          description units missing_values  \n",
            "0                                          Patient ID  None             no  \n",
            "1         0 = no diabetes 1 = prediabetes or diabetes  None             no  \n",
            "2                          0 = no high BP 1 = high BP  None             no  \n",
            "3        0 = no high cholesterol 1 = high cholesterol  None             no  \n",
            "4   0 = no cholesterol check in 5 years 1 = yes ch...  None             no  \n",
            "5                                     Body Mass Index  None             no  \n",
            "6   Have you smoked at least 100 cigarettes in you...  None             no  \n",
            "7        (Ever told) you had a stroke. 0 = no 1 = yes  None             no  \n",
            "8   coronary heart disease (CHD) or myocardial inf...  None             no  \n",
            "9   physical activity in past 30 days - not includ...  None             no  \n",
            "10  Consume Fruit 1 or more times per day 0 = no 1...  None             no  \n",
            "11  Consume Vegetables 1 or more times per day 0 =...  None             no  \n",
            "12  Heavy drinkers (adult men having more than 14 ...  None             no  \n",
            "13  Have any kind of health care coverage, includi...  None             no  \n",
            "14  Was there a time in the past 12 months when yo...  None             no  \n",
            "15  Would you say that in general your health is: ...  None             no  \n",
            "16  Now thinking about your mental health, which i...  None             no  \n",
            "17  Now thinking about your physical health, which...  None             no  \n",
            "18  Do you have serious difficulty walking or clim...  None             no  \n",
            "19                                0 = female 1 = male  None             no  \n",
            "20  13-level age category (_AGEG5YR see codebook) ...  None             no  \n",
            "21  Education level (EDUCA see codebook) scale 1-6...  None             no  \n",
            "22  Income scale (INCOME2 see codebook) scale 1-8 ...  None             no  \n"
          ]
        }
      ]
    },
    {
      "cell_type": "code",
      "source": [
        "import pandas as pd\n",
        "\n",
        "X = pd.DataFrame(X)\n",
        "\n",
        "int_cols = [\n",
        "    'BMI',\n",
        "    'Education',\n",
        "    'Income',\n",
        "    'Age',\n",
        "    'GenHlth',\n",
        "    'MentHlth',\n",
        "    'PhysHlth'\n",
        "]"
      ],
      "metadata": {
        "id": "F7I9K6dz3hxY"
      },
      "execution_count": 6,
      "outputs": []
    },
    {
      "cell_type": "code",
      "source": [
        "# Compute Z-scores for each numeric column in our dataset\n",
        "# and rescale the original values\n",
        "\n",
        "for col in int_cols:\n",
        "    X[col] = (X[col] - X[col].mean()) / X[col].std()"
      ],
      "metadata": {
        "id": "IP1_sDll5c_M"
      },
      "execution_count": 7,
      "outputs": []
    },
    {
      "cell_type": "code",
      "source": [
        "X.loc[:, int_cols].describe()"
      ],
      "metadata": {
        "colab": {
          "base_uri": "https://localhost:8080/",
          "height": 300
        },
        "id": "mcZFYM4n5j0E",
        "outputId": "361dc100-e25b-4ce2-9f37-1e1bc151a793"
      },
      "execution_count": 8,
      "outputs": [
        {
          "output_type": "execute_result",
          "data": {
            "text/plain": [
              "                BMI     Education        Income           Age       GenHlth  \\\n",
              "count  2.536800e+05  2.536800e+05  2.536800e+05  2.536800e+05  2.536800e+05   \n",
              "mean  -2.455865e-16 -1.281711e-16  6.453368e-17  9.500792e-17  2.097345e-16   \n",
              "std    1.000000e+00  1.000000e+00  1.000000e+00  1.000000e+00  1.000000e+00   \n",
              "min   -2.478911e+00 -4.108886e+00 -2.440133e+00 -2.302427e+00 -1.414529e+00   \n",
              "25%   -6.631210e-01 -1.065593e+00 -5.088362e-01 -6.653479e-01 -4.786178e-01   \n",
              "50%   -2.091735e-01 -5.116143e-02  4.568120e-01 -1.051634e-02 -4.786178e-01   \n",
              "75%    3.960898e-01  9.632697e-01  9.396361e-01  6.443152e-01  4.572934e-01   \n",
              "max    1.053425e+01  9.632697e-01  9.396361e-01  1.626563e+00  2.329116e+00   \n",
              "\n",
              "           MentHlth      PhysHlth  \n",
              "count  2.536800e+05  2.536800e+05  \n",
              "mean  -2.083900e-17  8.828566e-17  \n",
              "std    1.000000e+00  1.000000e+00  \n",
              "min   -4.296288e-01 -4.865915e-01  \n",
              "25%   -4.296288e-01 -4.865915e-01  \n",
              "50%   -4.296288e-01 -4.865915e-01  \n",
              "75%   -1.598269e-01 -1.424739e-01  \n",
              "max    3.617399e+00  2.954584e+00  "
            ],
            "text/html": [
              "\n",
              "  <div id=\"df-8ed28bed-50a9-4764-b18b-fd36f3a61be5\" class=\"colab-df-container\">\n",
              "    <div>\n",
              "<style scoped>\n",
              "    .dataframe tbody tr th:only-of-type {\n",
              "        vertical-align: middle;\n",
              "    }\n",
              "\n",
              "    .dataframe tbody tr th {\n",
              "        vertical-align: top;\n",
              "    }\n",
              "\n",
              "    .dataframe thead th {\n",
              "        text-align: right;\n",
              "    }\n",
              "</style>\n",
              "<table border=\"1\" class=\"dataframe\">\n",
              "  <thead>\n",
              "    <tr style=\"text-align: right;\">\n",
              "      <th></th>\n",
              "      <th>BMI</th>\n",
              "      <th>Education</th>\n",
              "      <th>Income</th>\n",
              "      <th>Age</th>\n",
              "      <th>GenHlth</th>\n",
              "      <th>MentHlth</th>\n",
              "      <th>PhysHlth</th>\n",
              "    </tr>\n",
              "  </thead>\n",
              "  <tbody>\n",
              "    <tr>\n",
              "      <th>count</th>\n",
              "      <td>2.536800e+05</td>\n",
              "      <td>2.536800e+05</td>\n",
              "      <td>2.536800e+05</td>\n",
              "      <td>2.536800e+05</td>\n",
              "      <td>2.536800e+05</td>\n",
              "      <td>2.536800e+05</td>\n",
              "      <td>2.536800e+05</td>\n",
              "    </tr>\n",
              "    <tr>\n",
              "      <th>mean</th>\n",
              "      <td>-2.455865e-16</td>\n",
              "      <td>-1.281711e-16</td>\n",
              "      <td>6.453368e-17</td>\n",
              "      <td>9.500792e-17</td>\n",
              "      <td>2.097345e-16</td>\n",
              "      <td>-2.083900e-17</td>\n",
              "      <td>8.828566e-17</td>\n",
              "    </tr>\n",
              "    <tr>\n",
              "      <th>std</th>\n",
              "      <td>1.000000e+00</td>\n",
              "      <td>1.000000e+00</td>\n",
              "      <td>1.000000e+00</td>\n",
              "      <td>1.000000e+00</td>\n",
              "      <td>1.000000e+00</td>\n",
              "      <td>1.000000e+00</td>\n",
              "      <td>1.000000e+00</td>\n",
              "    </tr>\n",
              "    <tr>\n",
              "      <th>min</th>\n",
              "      <td>-2.478911e+00</td>\n",
              "      <td>-4.108886e+00</td>\n",
              "      <td>-2.440133e+00</td>\n",
              "      <td>-2.302427e+00</td>\n",
              "      <td>-1.414529e+00</td>\n",
              "      <td>-4.296288e-01</td>\n",
              "      <td>-4.865915e-01</td>\n",
              "    </tr>\n",
              "    <tr>\n",
              "      <th>25%</th>\n",
              "      <td>-6.631210e-01</td>\n",
              "      <td>-1.065593e+00</td>\n",
              "      <td>-5.088362e-01</td>\n",
              "      <td>-6.653479e-01</td>\n",
              "      <td>-4.786178e-01</td>\n",
              "      <td>-4.296288e-01</td>\n",
              "      <td>-4.865915e-01</td>\n",
              "    </tr>\n",
              "    <tr>\n",
              "      <th>50%</th>\n",
              "      <td>-2.091735e-01</td>\n",
              "      <td>-5.116143e-02</td>\n",
              "      <td>4.568120e-01</td>\n",
              "      <td>-1.051634e-02</td>\n",
              "      <td>-4.786178e-01</td>\n",
              "      <td>-4.296288e-01</td>\n",
              "      <td>-4.865915e-01</td>\n",
              "    </tr>\n",
              "    <tr>\n",
              "      <th>75%</th>\n",
              "      <td>3.960898e-01</td>\n",
              "      <td>9.632697e-01</td>\n",
              "      <td>9.396361e-01</td>\n",
              "      <td>6.443152e-01</td>\n",
              "      <td>4.572934e-01</td>\n",
              "      <td>-1.598269e-01</td>\n",
              "      <td>-1.424739e-01</td>\n",
              "    </tr>\n",
              "    <tr>\n",
              "      <th>max</th>\n",
              "      <td>1.053425e+01</td>\n",
              "      <td>9.632697e-01</td>\n",
              "      <td>9.396361e-01</td>\n",
              "      <td>1.626563e+00</td>\n",
              "      <td>2.329116e+00</td>\n",
              "      <td>3.617399e+00</td>\n",
              "      <td>2.954584e+00</td>\n",
              "    </tr>\n",
              "  </tbody>\n",
              "</table>\n",
              "</div>\n",
              "    <div class=\"colab-df-buttons\">\n",
              "\n",
              "  <div class=\"colab-df-container\">\n",
              "    <button class=\"colab-df-convert\" onclick=\"convertToInteractive('df-8ed28bed-50a9-4764-b18b-fd36f3a61be5')\"\n",
              "            title=\"Convert this dataframe to an interactive table.\"\n",
              "            style=\"display:none;\">\n",
              "\n",
              "  <svg xmlns=\"http://www.w3.org/2000/svg\" height=\"24px\" viewBox=\"0 -960 960 960\">\n",
              "    <path d=\"M120-120v-720h720v720H120Zm60-500h600v-160H180v160Zm220 220h160v-160H400v160Zm0 220h160v-160H400v160ZM180-400h160v-160H180v160Zm440 0h160v-160H620v160ZM180-180h160v-160H180v160Zm440 0h160v-160H620v160Z\"/>\n",
              "  </svg>\n",
              "    </button>\n",
              "\n",
              "  <style>\n",
              "    .colab-df-container {\n",
              "      display:flex;\n",
              "      gap: 12px;\n",
              "    }\n",
              "\n",
              "    .colab-df-convert {\n",
              "      background-color: #E8F0FE;\n",
              "      border: none;\n",
              "      border-radius: 50%;\n",
              "      cursor: pointer;\n",
              "      display: none;\n",
              "      fill: #1967D2;\n",
              "      height: 32px;\n",
              "      padding: 0 0 0 0;\n",
              "      width: 32px;\n",
              "    }\n",
              "\n",
              "    .colab-df-convert:hover {\n",
              "      background-color: #E2EBFA;\n",
              "      box-shadow: 0px 1px 2px rgba(60, 64, 67, 0.3), 0px 1px 3px 1px rgba(60, 64, 67, 0.15);\n",
              "      fill: #174EA6;\n",
              "    }\n",
              "\n",
              "    .colab-df-buttons div {\n",
              "      margin-bottom: 4px;\n",
              "    }\n",
              "\n",
              "    [theme=dark] .colab-df-convert {\n",
              "      background-color: #3B4455;\n",
              "      fill: #D2E3FC;\n",
              "    }\n",
              "\n",
              "    [theme=dark] .colab-df-convert:hover {\n",
              "      background-color: #434B5C;\n",
              "      box-shadow: 0px 1px 3px 1px rgba(0, 0, 0, 0.15);\n",
              "      filter: drop-shadow(0px 1px 2px rgba(0, 0, 0, 0.3));\n",
              "      fill: #FFFFFF;\n",
              "    }\n",
              "  </style>\n",
              "\n",
              "    <script>\n",
              "      const buttonEl =\n",
              "        document.querySelector('#df-8ed28bed-50a9-4764-b18b-fd36f3a61be5 button.colab-df-convert');\n",
              "      buttonEl.style.display =\n",
              "        google.colab.kernel.accessAllowed ? 'block' : 'none';\n",
              "\n",
              "      async function convertToInteractive(key) {\n",
              "        const element = document.querySelector('#df-8ed28bed-50a9-4764-b18b-fd36f3a61be5');\n",
              "        const dataTable =\n",
              "          await google.colab.kernel.invokeFunction('convertToInteractive',\n",
              "                                                    [key], {});\n",
              "        if (!dataTable) return;\n",
              "\n",
              "        const docLinkHtml = 'Like what you see? Visit the ' +\n",
              "          '<a target=\"_blank\" href=https://colab.research.google.com/notebooks/data_table.ipynb>data table notebook</a>'\n",
              "          + ' to learn more about interactive tables.';\n",
              "        element.innerHTML = '';\n",
              "        dataTable['output_type'] = 'display_data';\n",
              "        await google.colab.output.renderOutput(dataTable, element);\n",
              "        const docLink = document.createElement('div');\n",
              "        docLink.innerHTML = docLinkHtml;\n",
              "        element.appendChild(docLink);\n",
              "      }\n",
              "    </script>\n",
              "  </div>\n",
              "\n",
              "\n",
              "<div id=\"df-605bba82-9566-44db-9503-c9eaa9f2149e\">\n",
              "  <button class=\"colab-df-quickchart\" onclick=\"quickchart('df-605bba82-9566-44db-9503-c9eaa9f2149e')\"\n",
              "            title=\"Suggest charts\"\n",
              "            style=\"display:none;\">\n",
              "\n",
              "<svg xmlns=\"http://www.w3.org/2000/svg\" height=\"24px\"viewBox=\"0 0 24 24\"\n",
              "     width=\"24px\">\n",
              "    <g>\n",
              "        <path d=\"M19 3H5c-1.1 0-2 .9-2 2v14c0 1.1.9 2 2 2h14c1.1 0 2-.9 2-2V5c0-1.1-.9-2-2-2zM9 17H7v-7h2v7zm4 0h-2V7h2v10zm4 0h-2v-4h2v4z\"/>\n",
              "    </g>\n",
              "</svg>\n",
              "  </button>\n",
              "\n",
              "<style>\n",
              "  .colab-df-quickchart {\n",
              "      --bg-color: #E8F0FE;\n",
              "      --fill-color: #1967D2;\n",
              "      --hover-bg-color: #E2EBFA;\n",
              "      --hover-fill-color: #174EA6;\n",
              "      --disabled-fill-color: #AAA;\n",
              "      --disabled-bg-color: #DDD;\n",
              "  }\n",
              "\n",
              "  [theme=dark] .colab-df-quickchart {\n",
              "      --bg-color: #3B4455;\n",
              "      --fill-color: #D2E3FC;\n",
              "      --hover-bg-color: #434B5C;\n",
              "      --hover-fill-color: #FFFFFF;\n",
              "      --disabled-bg-color: #3B4455;\n",
              "      --disabled-fill-color: #666;\n",
              "  }\n",
              "\n",
              "  .colab-df-quickchart {\n",
              "    background-color: var(--bg-color);\n",
              "    border: none;\n",
              "    border-radius: 50%;\n",
              "    cursor: pointer;\n",
              "    display: none;\n",
              "    fill: var(--fill-color);\n",
              "    height: 32px;\n",
              "    padding: 0;\n",
              "    width: 32px;\n",
              "  }\n",
              "\n",
              "  .colab-df-quickchart:hover {\n",
              "    background-color: var(--hover-bg-color);\n",
              "    box-shadow: 0 1px 2px rgba(60, 64, 67, 0.3), 0 1px 3px 1px rgba(60, 64, 67, 0.15);\n",
              "    fill: var(--button-hover-fill-color);\n",
              "  }\n",
              "\n",
              "  .colab-df-quickchart-complete:disabled,\n",
              "  .colab-df-quickchart-complete:disabled:hover {\n",
              "    background-color: var(--disabled-bg-color);\n",
              "    fill: var(--disabled-fill-color);\n",
              "    box-shadow: none;\n",
              "  }\n",
              "\n",
              "  .colab-df-spinner {\n",
              "    border: 2px solid var(--fill-color);\n",
              "    border-color: transparent;\n",
              "    border-bottom-color: var(--fill-color);\n",
              "    animation:\n",
              "      spin 1s steps(1) infinite;\n",
              "  }\n",
              "\n",
              "  @keyframes spin {\n",
              "    0% {\n",
              "      border-color: transparent;\n",
              "      border-bottom-color: var(--fill-color);\n",
              "      border-left-color: var(--fill-color);\n",
              "    }\n",
              "    20% {\n",
              "      border-color: transparent;\n",
              "      border-left-color: var(--fill-color);\n",
              "      border-top-color: var(--fill-color);\n",
              "    }\n",
              "    30% {\n",
              "      border-color: transparent;\n",
              "      border-left-color: var(--fill-color);\n",
              "      border-top-color: var(--fill-color);\n",
              "      border-right-color: var(--fill-color);\n",
              "    }\n",
              "    40% {\n",
              "      border-color: transparent;\n",
              "      border-right-color: var(--fill-color);\n",
              "      border-top-color: var(--fill-color);\n",
              "    }\n",
              "    60% {\n",
              "      border-color: transparent;\n",
              "      border-right-color: var(--fill-color);\n",
              "    }\n",
              "    80% {\n",
              "      border-color: transparent;\n",
              "      border-right-color: var(--fill-color);\n",
              "      border-bottom-color: var(--fill-color);\n",
              "    }\n",
              "    90% {\n",
              "      border-color: transparent;\n",
              "      border-bottom-color: var(--fill-color);\n",
              "    }\n",
              "  }\n",
              "</style>\n",
              "\n",
              "  <script>\n",
              "    async function quickchart(key) {\n",
              "      const quickchartButtonEl =\n",
              "        document.querySelector('#' + key + ' button');\n",
              "      quickchartButtonEl.disabled = true;  // To prevent multiple clicks.\n",
              "      quickchartButtonEl.classList.add('colab-df-spinner');\n",
              "      try {\n",
              "        const charts = await google.colab.kernel.invokeFunction(\n",
              "            'suggestCharts', [key], {});\n",
              "      } catch (error) {\n",
              "        console.error('Error during call to suggestCharts:', error);\n",
              "      }\n",
              "      quickchartButtonEl.classList.remove('colab-df-spinner');\n",
              "      quickchartButtonEl.classList.add('colab-df-quickchart-complete');\n",
              "    }\n",
              "    (() => {\n",
              "      let quickchartButtonEl =\n",
              "        document.querySelector('#df-605bba82-9566-44db-9503-c9eaa9f2149e button');\n",
              "      quickchartButtonEl.style.display =\n",
              "        google.colab.kernel.accessAllowed ? 'block' : 'none';\n",
              "    })();\n",
              "  </script>\n",
              "</div>\n",
              "    </div>\n",
              "  </div>\n"
            ],
            "application/vnd.google.colaboratory.intrinsic+json": {
              "type": "dataframe",
              "summary": "{\n  \"name\": \"X\",\n  \"rows\": 8,\n  \"fields\": [\n    {\n      \"column\": \"BMI\",\n      \"properties\": {\n        \"dtype\": \"number\",\n        \"std\": 89688.9909001801,\n        \"min\": -2.478910826923928,\n        \"max\": 253680.0,\n        \"num_unique_values\": 8,\n        \"samples\": [\n          -2.455865147881015e-16,\n          -0.20917348655663862,\n          253680.0\n        ],\n        \"semantic_type\": \"\",\n        \"description\": \"\"\n      }\n    },\n    {\n      \"column\": \"Education\",\n      \"properties\": {\n        \"dtype\": \"number\",\n        \"std\": 89689.54026383808,\n        \"min\": -4.108885906009495,\n        \"max\": 253680.0,\n        \"num_unique_values\": 7,\n        \"samples\": [\n          253680.0,\n          -1.2817106428722086e-16,\n          -0.05116143067781615\n        ],\n        \"semantic_type\": \"\",\n        \"description\": \"\"\n      }\n    },\n    {\n      \"column\": \"Income\",\n      \"properties\": {\n        \"dtype\": \"number\",\n        \"std\": 89689.40458073004,\n        \"min\": -2.4401327278085976,\n        \"max\": 253680.0,\n        \"num_unique_values\": 7,\n        \"samples\": [\n          253680.0,\n          6.453368271804127e-17,\n          0.45681198907664344\n        ],\n        \"semantic_type\": \"\",\n        \"description\": \"\"\n      }\n    },\n    {\n      \"column\": \"Age\",\n      \"properties\": {\n        \"dtype\": \"number\",\n        \"std\": 89689.40935563837,\n        \"min\": -2.3024268735247713,\n        \"max\": 253680.0,\n        \"num_unique_values\": 8,\n        \"samples\": [\n          9.500792177933853e-17,\n          -0.01051633501586389,\n          253680.0\n        ],\n        \"semantic_type\": \"\",\n        \"description\": \"\"\n      }\n    },\n    {\n      \"column\": \"GenHlth\",\n      \"properties\": {\n        \"dtype\": \"number\",\n        \"std\": 89689.35268236854,\n        \"min\": -1.4145290846787755,\n        \"max\": 253680.0,\n        \"num_unique_values\": 7,\n        \"samples\": [\n          253680.0,\n          2.0973446883363411e-16,\n          0.457293445778499\n        ],\n        \"semantic_type\": \"\",\n        \"description\": \"\"\n      }\n    },\n    {\n      \"column\": \"MentHlth\",\n      \"properties\": {\n        \"dtype\": \"number\",\n        \"std\": 89689.26409341097,\n        \"min\": -0.42962876266264943,\n        \"max\": 253680.0,\n        \"num_unique_values\": 6,\n        \"samples\": [\n          253680.0,\n          -2.083900171103416e-17,\n          3.6173994883592147\n        ],\n        \"semantic_type\": \"\",\n        \"description\": \"\"\n      }\n    },\n    {\n      \"column\": \"PhysHlth\",\n      \"properties\": {\n        \"dtype\": \"number\",\n        \"std\": 89689.30532250596,\n        \"min\": -0.4865914507299529,\n        \"max\": 253680.0,\n        \"num_unique_values\": 6,\n        \"samples\": [\n          253680.0,\n          8.82856631628759e-17,\n          2.954583997830895\n        ],\n        \"semantic_type\": \"\",\n        \"description\": \"\"\n      }\n    }\n  ]\n}"
            }
          },
          "metadata": {},
          "execution_count": 8
        }
      ]
    },
    {
      "cell_type": "code",
      "source": [
        "X['diet'] = X['Fruits'] + X['Veggies'] - X['HvyAlcoholConsump']"
      ],
      "metadata": {
        "id": "lbd3YCL69FIl"
      },
      "execution_count": 23,
      "outputs": []
    },
    {
      "cell_type": "code",
      "source": [
        "X['diet'].describe()"
      ],
      "metadata": {
        "colab": {
          "base_uri": "https://localhost:8080/"
        },
        "id": "9BeMefBY_9_b",
        "outputId": "bbf36249-6846-456b-9b57-7feae833bd9c"
      },
      "execution_count": 24,
      "outputs": [
        {
          "output_type": "execute_result",
          "data": {
            "text/plain": [
              "count    253680.000000\n",
              "mean          1.389479\n",
              "std           0.733420\n",
              "min          -1.000000\n",
              "25%           1.000000\n",
              "50%           2.000000\n",
              "75%           2.000000\n",
              "max           2.000000\n",
              "Name: diet, dtype: float64"
            ]
          },
          "metadata": {},
          "execution_count": 24
        }
      ]
    },
    {
      "cell_type": "code",
      "source": [
        "X.drop(['Age'], axis=1, inplace=True)"
      ],
      "metadata": {
        "id": "m4ziXzVgAY18"
      },
      "execution_count": 27,
      "outputs": []
    },
    {
      "cell_type": "code",
      "source": [
        "from sklearn.model_selection import train_test_split"
      ],
      "metadata": {
        "id": "jWUPVXIKAq20"
      },
      "execution_count": 28,
      "outputs": []
    },
    {
      "cell_type": "code",
      "source": [
        "X_train, X_test, y_train, y_test = train_test_split(\n",
        "    X, y,\n",
        "    random_state=42,\n",
        "    train_size=0.7)"
      ],
      "metadata": {
        "id": "YJPp9GtnBIoe"
      },
      "execution_count": 29,
      "outputs": []
    },
    {
      "cell_type": "code",
      "source": [
        "X_train.shape"
      ],
      "metadata": {
        "colab": {
          "base_uri": "https://localhost:8080/"
        },
        "id": "I6unxDguBkcX",
        "outputId": "18b8e50f-3080-4f2e-e74c-2b7e803e6792"
      },
      "execution_count": 31,
      "outputs": [
        {
          "output_type": "execute_result",
          "data": {
            "text/plain": [
              "(177576, 21)"
            ]
          },
          "metadata": {},
          "execution_count": 31
        }
      ]
    },
    {
      "cell_type": "code",
      "source": [
        "import tensorflow as tf"
      ],
      "metadata": {
        "id": "KgdG5KOABly_"
      },
      "execution_count": 32,
      "outputs": []
    },
    {
      "cell_type": "code",
      "source": [
        "inputs = {\n",
        "    'GenHlth':\n",
        "        tf.keras.layers.Input(\n",
        "            shape=(1,),\n",
        "            dtype=tf.float32,\n",
        "            name='GenHlth'),\n",
        "    'BMI':\n",
        "        tf.keras.layers.Input(\n",
        "            shape=(1,),\n",
        "            dtype=tf.float32,\n",
        "            name='BMI'),\n",
        "    'PhysHlth':\n",
        "        tf.keras.layers.Input(\n",
        "            shape=(1,),\n",
        "            dtype=tf.float32,\n",
        "            name='PhysHlth'),\n",
        "    'diet':\n",
        "        tf.keras.layers.Input(\n",
        "            shape=(1,),\n",
        "            dtype=tf.float32,\n",
        "            name='Diet'),\n",
        "    'HighBP':\n",
        "        tf.keras.layers.Input(\n",
        "            shape=(1,),\n",
        "            dtype=tf.float32,\n",
        "            name='HighBP'),\n",
        "    'HighChol':\n",
        "        tf.keras.layers.Input(\n",
        "            shape=(1,),\n",
        "            dtype=tf.float32,\n",
        "            name='HighChol'),\n",
        "}"
      ],
      "metadata": {
        "id": "Cos5PDXuBthe"
      },
      "execution_count": 33,
      "outputs": []
    },
    {
      "cell_type": "code",
      "source": [
        "preprocessing_layers = tf.keras.layers.Concatenate()(\n",
        "    [inputs.get('GenHlth'), inputs.get('BMI'),  inputs.get('PhysHlth'),\n",
        "     inputs.get('diet'),  inputs.get('HighBP'),  inputs.get('BMHighChol')])\n",
        "\n",
        "hidden = tf.keras.layers.Dense(1000, activation='sigmoid')(preprocessing_layers)\n",
        "hidden = tf.keras.layers.Dense(500, activation='sigmoid')(hidden)\n",
        "\n",
        "output = tf.keras.layers.Dense(1, activation='sigmoid')(hidden)"
      ],
      "metadata": {
        "id": "7Lel7tFDDBp6"
      },
      "execution_count": null,
      "outputs": []
    }
  ]
}